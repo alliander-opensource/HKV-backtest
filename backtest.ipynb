{
 "cells": [
  {
   "cell_type": "markdown",
   "id": "d655a5c0",
   "metadata": {},
   "source": [
    "# Backtest HKV"
   ]
  },
  {
   "cell_type": "code",
   "execution_count": null,
   "id": "8d727ebd",
   "metadata": {},
   "outputs": [],
   "source": [
    "import pandas as pd \n",
    "from datetime import datetime\n",
    "import openstef\n",
    "from openstef.data_classes.model_specifications import ModelSpecificationDataClass\n",
    "from openstef.data_classes.prediction_job import PredictionJobDataClass \n",
    "from openstef.pipeline.train_create_forecast_backtest import train_model_and_forecast_back_test\n",
    "from openstef.feature_engineering.weather_features import calculate_dni, calculate_gti\n",
    "\n",
    "from tqdm.autonotebook import trange\n",
    "\n",
    "# Set plotly as the default pandas plotting backend\n",
    "pd.options.plotting.backend = 'plotly'\n",
    "\n",
    "from get_rcdata import get_rcdataframe, find_nearest\n",
    "\n",
    "import xarray as xr"
   ]
  },
  {
   "cell_type": "code",
   "execution_count": null,
   "id": "337f3df2",
   "metadata": {},
   "outputs": [],
   "source": [
    "data = xr.open_dataset('data/raycast_test_knmi.nc')\n",
    "knmi_stations = pd.read_csv('data/knmi_stations.csv', index_col=0)"
   ]
  },
  {
   "cell_type": "code",
   "execution_count": null,
   "id": "ce8fac4c",
   "metadata": {},
   "outputs": [],
   "source": [
    "lat = 53.445448\n",
    "lon = 5.7226894\n",
    "station = find_nearest(lat, lon, knmi_stations)\n",
    "lead = 3"
   ]
  },
  {
   "cell_type": "code",
   "execution_count": null,
   "id": "485d9d0b",
   "metadata": {},
   "outputs": [],
   "source": [
    "raycastdf = get_rcdataframe(station, data, lead=lead).drop(columns=['lead_time'])\n",
    "display(raycastdf)"
   ]
  },
  {
   "cell_type": "code",
   "execution_count": null,
   "id": "3fe31f92",
   "metadata": {},
   "outputs": [],
   "source": [
    "raycastdf.index = raycastdf.index + pd.DateOffset(minutes=15*lead)\n",
    "\n",
    "raycastdf.columns = [f\"raycast_{lead}h_{col}\" for col in raycastdf.columns.get_level_values(1)]\n",
    "raycastdf.index = pd.to_datetime(raycastdf.index, utc=True)\n",
    "\n",
    "display(raycastdf)\n"
   ]
  },
  {
   "cell_type": "markdown",
   "id": "61766752",
   "metadata": {},
   "source": [
    "## Define the prediction job and load the data\n"
   ]
  },
  {
   "cell_type": "code",
   "execution_count": null,
   "id": "41d7e050",
   "metadata": {},
   "outputs": [],
   "source": [
    "# Define properties of training/prediction.\n",
    "\n",
    "# Quantiles\n",
    "quantiles = [0.05, 0.10, 0.20, 0.30, 0.40, 0.50, 0.60, 0.70, 0.80, 0.90, 0.95]\n",
    "\n",
    "# Sun-heavy         lat,lon: 53.445448, 5.7226894\n",
    "# Wind-heavy        lat,lon: 52.515094, 5.4768915\n",
    "# Sun-Wind-heavy    lat,lon: 53.325670, 5.7532568\n",
    "# Consumption-heavy lat,lon: 52.30096,  5.04536\n",
    "pj = {\n",
    "    \"lat\":53.445448,\n",
    "    \"lon\":5.7226894,\n",
    "    \"id\": 307,\n",
    "    \"name\": \"Back_test_prediction_job\",\n",
    "    \"typ\": \"demand\",\n",
    "    \"model\": \"xgb\",\n",
    "    \"horizon_minutes\": 2880,  # How many minutes in the future should be forecasted\n",
    "    \"resolution_minutes\": 15,  # In what timestep should be forecasted\n",
    "    \"train_components\": 1,\n",
    "    \"sid\": \"Back_test\",\n",
    "    \"created\": datetime.now(),\n",
    "    \"description\": \"\",\n",
    "    \"forecast_type\": \"demand\",\n",
    "    \"quantiles\": quantiles,\n",
    "    \"hyper_params\": {},\n",
    "    \"feature_names\": None, \n",
    "    \"model_type_group\": \"default\",\n",
    "}"
   ]
  },
  {
   "cell_type": "code",
   "execution_count": null,
   "id": "bdf006f3",
   "metadata": {},
   "outputs": [],
   "source": [
    "# Data files:\n",
    "\n",
    "# 2020_data_sun_heavy.csv\n",
    "# 2020_data_wind_heavy.csv\n",
    "# 2020_data_wind_sun_heavy.csv\n",
    "# 2020_data_consumption_heavy.csv\n",
    "\n",
    "# 2023_data_sun_heavy.csv\n",
    "# 2023_data_wind_heavy.csv\n",
    "# 2023_data_wind_sun_heavy.csv\n",
    "# 2023_data_consumption_heavy.csv\n",
    "\n",
    "input_data=pd.read_csv(\"data/2020_data_sun_heavy.csv\", index_col=0, parse_dates=True)\n",
    "display(input_data)\n",
    "print(input_data.columns)"
   ]
  },
  {
   "cell_type": "code",
   "execution_count": null,
   "id": "96bc3a0f",
   "metadata": {},
   "outputs": [],
   "source": [
    "for col in raycastdf.columns:\n",
    "    input_data[col] = input_data.index.map(raycastdf[col].to_dict())"
   ]
  },
  {
   "cell_type": "code",
   "execution_count": null,
   "id": "5853d117",
   "metadata": {},
   "outputs": [],
   "source": [
    "input_data.dropna()"
   ]
  },
  {
   "cell_type": "code",
   "execution_count": null,
   "id": "1cc5e0ee",
   "metadata": {},
   "outputs": [],
   "source": [
    "calculate_dni(input_data[\"raycast_3h_0.5\"], pj)\n",
    "input_data[\"dni_raycast_3h_0.5\"] = calculate_dni(input_data[\"raycast_3h_0.5\"], pj)\n",
    "input_data[\"gti_raycast_3h_0.5\"] = calculate_gti(input_data[\"raycast_3h_0.5\"], pj)"
   ]
  },
  {
   "cell_type": "markdown",
   "id": "4b6c23b5",
   "metadata": {},
   "source": [
    "## Perform the backtest"
   ]
  },
  {
   "cell_type": "code",
   "execution_count": null,
   "id": "cc1f4f99",
   "metadata": {},
   "outputs": [],
   "source": [
    "backtest_iterations = 10\n",
    "backtest_horizon = 24\n",
    "backtest_folds = 4\n",
    "\n",
    "forecasts: list[pd.DataFrame] = []\n",
    "\n",
    "for _ in trange(backtest_iterations):\n",
    "    backtest_result = train_model_and_forecast_back_test(\n",
    "        PredictionJobDataClass(**pj),\n",
    "        ModelSpecificationDataClass(**pj),\n",
    "        input_data,\n",
    "        training_horizons=[backtest_horizon],\n",
    "        n_folds=backtest_folds,\n",
    "    )\n",
    "    forecast = backtest_result[0]\n",
    "    forecast = forecast.loc[forecast[\"horizon\"] == backtest_horizon]\n",
    "    forecast = forecast.drop(\n",
    "        columns=[\n",
    "            \"pid\",\n",
    "            \"customer\",\n",
    "            \"description\",\n",
    "            \"type\",\n",
    "            \"algtype\",\n",
    "            \"tAhead\",\n",
    "            \"horizon\",\n",
    "        ]\n",
    "    )\n",
    "    forecasts.append(forecast)"
   ]
  },
  {
   "cell_type": "code",
   "execution_count": null,
   "id": "985c4ecf",
   "metadata": {},
   "outputs": [],
   "source": [
    "forecasts_combined = pd.concat(forecasts, axis=\"columns\")\n",
    "forecast_median = pd.DataFrame()\n",
    "for column in forecasts[0].columns:\n",
    "    forecast_median[column] = forecasts_combined[column].median(axis=\"columns\")"
   ]
  },
  {
   "cell_type": "markdown",
   "id": "cdfd4c95",
   "metadata": {},
   "source": [
    "## Evaluate the results \n"
   ]
  },
  {
   "cell_type": "code",
   "execution_count": null,
   "id": "db7f94f9",
   "metadata": {},
   "outputs": [],
   "source": [
    "import plotly.graph_objs as go\n",
    "import numpy as np\n",
    "def plot_percentiles(timeseries: pd.DataFrame):\n",
    "    # Generate traces of Percentiles, fill below\n",
    "    figure = go.Figure()\n",
    "    for i, percentile in enumerate(np.sort([x for x in timeseries.columns if x[0] == \"q\"])):\n",
    "        fill = None if i == 0 else \"tonexty\"\n",
    "        figure.add_trace(\n",
    "            go.Scatter(\n",
    "                x=timeseries.index,\n",
    "                y=timeseries[percentile],\n",
    "                fill=fill,\n",
    "                name=percentile,\n",
    "                line=dict(width=1),\n",
    "            )\n",
    "        )\n",
    "\n",
    "    # Add historic load\n",
    "    figure.add_trace(\n",
    "        go.Scatter(\n",
    "            x=timeseries.index,\n",
    "            y=timeseries[\"realised\"],\n",
    "            name=\"realised\",\n",
    "            line=dict(color=\"red\", width=2),\n",
    "        )\n",
    "    )\n",
    "\n",
    "    figure.update_layout(title=\"Backtest - Prognoses vs Realisatie\")\n",
    "\n",
    "    return figure"
   ]
  },
  {
   "cell_type": "code",
   "execution_count": null,
   "id": "9545dc5b",
   "metadata": {},
   "outputs": [],
   "source": [
    "plot_percentiles(forecast_median)"
   ]
  },
  {
   "cell_type": "code",
   "execution_count": null,
   "id": "39b43b95",
   "metadata": {},
   "outputs": [],
   "source": [
    "openstef.metrics.figure.plot_feature_importance(backtest_result[1][0].feature_importance_dataframe)"
   ]
  },
  {
   "cell_type": "code",
   "execution_count": null,
   "id": "535dec3b",
   "metadata": {},
   "outputs": [],
   "source": [
    "display((backtest_result[1][0].feature_importance_dataframe.loc[\"gti_raycast_3h_0.5\"]))"
   ]
  },
  {
   "cell_type": "code",
   "execution_count": null,
   "id": "1c2e72c9",
   "metadata": {},
   "outputs": [],
   "source": [
    "input_data2 = input_data.copy(deep=True)\n",
    "input_data2[\"radiation\"] = input_data2[\"radiation\"]/max(input_data2[\"radiation\"])\n",
    "input_data2[\"raycast_3h_0.5\"] = input_data2[\"raycast_3h_0.5\"]/max(input_data2[\"raycast_3h_0.5\"].dropna())\n",
    "input_data2[[\"radiation\", \"raycast_3h_0.5\"]].plot()"
   ]
  }
 ],
 "metadata": {
  "kernelspec": {
   "display_name": "Python 3 (ipykernel)",
   "language": "python",
   "name": "python3"
  },
  "language_info": {
   "codemirror_mode": {
    "name": "ipython",
    "version": 3
   },
   "file_extension": ".py",
   "mimetype": "text/x-python",
   "name": "python",
   "nbconvert_exporter": "python",
   "pygments_lexer": "ipython3",
   "version": "3.10.13"
  }
 },
 "nbformat": 4,
 "nbformat_minor": 5
}
